{
 "cells": [
  {
   "cell_type": "code",
   "execution_count": 59,
   "metadata": {},
   "outputs": [
    {
     "name": "stdout",
     "output_type": "stream",
     "text": [
      "                                                names  \\\n",
      "0                      PLUS_Practice-Image-Processing   \n",
      "2                      VITO_Data_Access_In_Terrascope   \n",
      "4                        GISIG_Introduction_to_EO4GEO   \n",
      "5   SpaSe_OBIA-for-Operations-Copernicus-Service-C...   \n",
      "13  UT-ITC_Satellite_Data_Classification_Random_Fo...   \n",
      "14  UT-ITC_Satellite_Data_Classification_Decision_...   \n",
      "15                      UNEP-GRID_Introduction-to-GIS   \n",
      "17                    KULeuven_Management-View-on-SDI   \n",
      "30  UJI_Reproducible-Research-Practices-in-Geoscie...   \n",
      "33                             PLUS_OBIA-Introduction   \n",
      "\n",
      "                                             rel_tags  \n",
      "0                                              TATAGS  \n",
      "2                                              TATAGS  \n",
      "4                                              OIOIOI  \n",
      "5   TATATATATATATATATATATATATATATATATAIPIPIPPSPSGD...  \n",
      "13                                             TATAGS  \n",
      "14                                             TATAGS  \n",
      "15                                   DMDMGDAMAMAMCFCV  \n",
      "17                                                 OI  \n",
      "30                                               GCIP  \n",
      "33                                             IPIPIP  \n"
     ]
    }
   ],
   "source": [
    "#removes all non capitalized letters\n",
    "def strip_string(string):\n",
    "    import re\n",
    "    return(re.sub(r\"[^A-Z]\", '', string))\n",
    "\n",
    "def URL_to_name(string):\n",
    "    return(string[32:-1])\n",
    "\n",
    "\n",
    "# Importing csv as pd.df\n",
    "import pandas as pd\n",
    "import numpy as np\n",
    "df = pd.read_csv(\"/home/simon/Git/metadata_scraper/metadata_presentations.csv\")\n",
    "# transfering to new df_clean\n",
    "df_clean = df[['URL', 'Relation/s']]\n",
    "# dropping all courses where Relation is undefined\n",
    "df_clean = df_clean.dropna()\n",
    "\n",
    "\n",
    "#Clean up name of course\n",
    "url_names_ls = []\n",
    "for entry in df_clean[\"URL\"]:\n",
    "    url_names_ls.append(URL_to_name(entry))\n",
    "df_clean[\"names\"] = url_names_ls\n",
    "\n",
    "# Adding column \"rel_tags\" of relations with only string w/ relations\n",
    "meta_relations_tags = []\n",
    "for entry in df_clean[\"Relation/s\"]:\n",
    "    meta_relations_tags.append(strip_string(entry))\n",
    "df_clean[\"rel_tags\"] = meta_relations_tags\n",
    "\n",
    "\n",
    "\n",
    "\n",
    "#setting all entries to NaN where relation was incorrectly filled out\n",
    "df_clean = df_clean.replace(\"\",np.NaN)\n",
    "#dropping those incorrect relations from df\n",
    "df_clean = df_clean.dropna()\n",
    "# dropping \"Relation/s\" column from list\n",
    "df_clean = df_clean.drop([\"URL\",\"Relation/s\"], axis = 1)\n",
    "\n",
    "print(df_clean)\n",
    "\n"
   ]
  },
  {
   "cell_type": "code",
   "execution_count": null,
   "metadata": {},
   "outputs": [],
   "source": [
    "def count(ls):\n",
    "    "
   ]
  },
  {
   "cell_type": "code",
   "execution_count": null,
   "metadata": {},
   "outputs": [],
   "source": [
    "# library\n",
    "import matplotlib.pyplot as plt\n",
    " \n",
    "# create data\n",
    "size_of_groups=[12,11,3,30]\n",
    " \n",
    "# Create a pieplot\n",
    "plt.pie(size_of_groups)\n",
    "#plt.show()\n",
    " \n",
    "# add a circle at the center\n",
    "my_circle=plt.Circle( (0,0), 0.7, color='white')\n",
    "p=plt.gcf()\n",
    "p.gca().add_artist(my_circle)\n",
    " \n",
    "plt.show()"
   ]
  },
  {
   "cell_type": "code",
   "execution_count": 52,
   "metadata": {},
   "outputs": [
    {
     "name": "stdout",
     "output_type": "stream",
     "text": [
      "32\n"
     ]
    }
   ],
   "source": [
    "print(len(\"https://eo4geocourses.github.io/\"))"
   ]
  },
  {
   "cell_type": "code",
   "execution_count": null,
   "metadata": {},
   "outputs": [],
   "source": []
  }
 ],
 "metadata": {
  "kernelspec": {
   "display_name": "Python 3",
   "language": "python",
   "name": "python3"
  },
  "language_info": {
   "codemirror_mode": {
    "name": "ipython",
    "version": 3
   },
   "file_extension": ".py",
   "mimetype": "text/x-python",
   "name": "python",
   "nbconvert_exporter": "python",
   "pygments_lexer": "ipython3",
   "version": "3.7.6"
  }
 },
 "nbformat": 4,
 "nbformat_minor": 4
}
